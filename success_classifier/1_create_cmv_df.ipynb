{
 "cells": [
  {
   "cell_type": "code",
   "execution_count": 1,
   "metadata": {},
   "outputs": [],
   "source": [
    "import convokit\n",
    "from convokit import Corpus, download\n",
    "import numpy as np\n",
    "import pandas as pd\n",
    "import nltk\n",
    "nltk.download('wordnet', quiet=True)\n",
    "import re"
   ]
  },
  {
   "cell_type": "code",
   "execution_count": 2,
   "metadata": {},
   "outputs": [
    {
     "name": "stdout",
     "output_type": "stream",
     "text": [
      "Requirement already satisfied: contractions in c:\\users\\brent\\anaconda3\\lib\\site-packages (0.1.72)\n",
      "Requirement already satisfied: textsearch>=0.0.21 in c:\\users\\brent\\anaconda3\\lib\\site-packages (from contractions) (0.0.21)\n",
      "Requirement already satisfied: anyascii in c:\\users\\brent\\anaconda3\\lib\\site-packages (from textsearch>=0.0.21->contractions) (0.3.1)\n",
      "Requirement already satisfied: pyahocorasick in c:\\users\\brent\\anaconda3\\lib\\site-packages (from textsearch>=0.0.21->contractions) (1.4.4)\n"
     ]
    }
   ],
   "source": [
    "! pip install contractions\n",
    "import contractions"
   ]
  },
  {
   "cell_type": "markdown",
   "metadata": {},
   "source": [
    "## Read in the dataset and convert it to a pandas dataframe"
   ]
  },
  {
   "cell_type": "code",
   "execution_count": null,
   "metadata": {},
   "outputs": [],
   "source": [
    "corpus = Corpus(download('winning-args-corpus'))"
   ]
  },
  {
   "cell_type": "code",
   "execution_count": 86,
   "metadata": {},
   "outputs": [],
   "source": [
    "utterance_df = corpus.get_utterances_dataframe()\n",
    "utterance_df['text'] = utterance_df['text'].astype('str')\n",
    "utterance_df['reply_to'] = utterance_df['reply_to'].astype('str')"
   ]
  },
  {
   "cell_type": "markdown",
   "metadata": {},
   "source": [
    "### 1. Get the conversation paths and save them to a file"
   ]
  },
  {
   "cell_type": "code",
   "execution_count": 43,
   "metadata": {},
   "outputs": [],
   "source": [
    "utterance_ids = corpus.get_utterance_ids()\n",
    "def get_branches(utterance_id, conversations, conversation, labels):\n",
    "    meta = corpus.get_utterance(utterance_id).meta\n",
    "    conversation.append(utterance_id)\n",
    "    labels.append(meta['success'])\n",
    "\n",
    "    # If we can immediately verify that there are no replies\n",
    "    # then we can return early\n",
    "    if meta['replies'] is None or len(meta['replies']) == 0:\n",
    "        conversations.append([conversation.copy(), labels.copy()])\n",
    "        conversation.pop()\n",
    "        labels.pop()\n",
    "        return conversations\n",
    "\n",
    "    replies = meta['replies'] if utterance_id[:2] == \"t3\" else meta['replies']['data']['children']\n",
    "    if len(replies) > 0:\n",
    "        for reply in replies:\n",
    "            reply = \"t1_\" + reply\n",
    "            if reply in utterance_ids: get_branches(reply, conversations, conversation, labels)\n",
    "    else:\n",
    "        conversations.append([conversation.copy(), labels.copy()])\n",
    "    \n",
    "    conversation.pop()\n",
    "    labels.pop()\n",
    "    return conversations"
   ]
  },
  {
   "cell_type": "code",
   "execution_count": 28,
   "metadata": {},
   "outputs": [
    {
     "name": "stdout",
     "output_type": "stream",
     "text": [
      "3000 / 3051\r"
     ]
    }
   ],
   "source": [
    "# ctr = 0\n",
    "# conversation_paths = []\n",
    "# conversation_ids = corpus.get_conversation_ids()\n",
    "# for conversation_id in conversation_ids:\n",
    "#     ctr += 1\n",
    "#     if ctr % 100 == 0:\n",
    "#         print(f\"{ctr} / {len(conversation_ids)}\", end=\"\\r\")\n",
    "#     branches = get_branches(conversation_id, [], [], [])\n",
    "#     conversation_paths.append(branches)"
   ]
  },
  {
   "cell_type": "code",
   "execution_count": 48,
   "metadata": {},
   "outputs": [],
   "source": [
    "# conversation_paths_np = np.array(conversation_paths, dtype='object')\n",
    "# np.save('cmv_conversation_paths.npy', conversation_paths_np, allow_pickle=True)"
   ]
  },
  {
   "cell_type": "markdown",
   "metadata": {},
   "source": [
    "### 2. Load the conversation paths from the .npy file"
   ]
  },
  {
   "cell_type": "code",
   "execution_count": 49,
   "metadata": {},
   "outputs": [],
   "source": [
    "conversation_paths_np = np.load('cmv_conversation_paths.npy', allow_pickle=True)"
   ]
  },
  {
   "cell_type": "code",
   "execution_count": 141,
   "metadata": {},
   "outputs": [],
   "source": [
    "id_utterance_map = {}\n",
    "for id in utterance_ids:\n",
    "    id_utterance_map[id] = corpus.get_utterance(id).text"
   ]
  },
  {
   "cell_type": "code",
   "execution_count": 142,
   "metadata": {},
   "outputs": [],
   "source": [
    "def get_conversation_from_path(utterance_ids):\n",
    "    conversation = \"\"\n",
    "    for id in utterance_ids:\n",
    "        text = id_utterance_map[id]\n",
    "        conversation = conversation + text\n",
    "\n",
    "    return conversation"
   ]
  },
  {
   "cell_type": "code",
   "execution_count": 120,
   "metadata": {},
   "outputs": [],
   "source": [
    "def get_label_from_path(labels):\n",
    "    none_ctr = 0\n",
    "    success_ctr = 0\n",
    "    fail_ctr = 0\n",
    "\n",
    "    for label in labels:\n",
    "        if label is None:\n",
    "            none_ctr = none_ctr + 1\n",
    "        elif label == 1:\n",
    "            success_ctr = success_ctr + 1\n",
    "        elif label == 0:\n",
    "            fail_ctr = fail_ctr + 1\n",
    "        else:\n",
    "            print(f\"{label} is an unknown label\")\n",
    "    \n",
    "    if success_ctr > 0 and fail_ctr > 0:\n",
    "        print(f\"Success = {success_ctr}  and Failures = {fail_ctr}\")\n",
    "\n",
    "    if success_ctr > fail_ctr:\n",
    "        return 1\n",
    "    elif fail_ctr > success_ctr:\n",
    "        return 0\n",
    "    else:\n",
    "        return None"
   ]
  },
  {
   "cell_type": "code",
   "execution_count": 116,
   "metadata": {},
   "outputs": [],
   "source": [
    "total_num_conversations = 0\n",
    "for conversation_group in conversation_paths:\n",
    "    total_num_conversations = total_num_conversations + len(conversation_group)"
   ]
  },
  {
   "cell_type": "markdown",
   "metadata": {},
   "source": [
    "### Create a new dataframe out of our concatenated conversations"
   ]
  },
  {
   "cell_type": "code",
   "execution_count": 185,
   "metadata": {},
   "outputs": [
    {
     "name": "stdout",
     "output_type": "stream",
     "text": [
      "3050 / 3051\r"
     ]
    }
   ],
   "source": [
    "conversation_arr = np.array([[\"\", 0]] * total_num_conversations, dtype='object')\n",
    "idx_ctr = 0\n",
    "\n",
    "for i, conversation_group in enumerate(conversation_paths):\n",
    "    print(f\"{i + 1} / {len(conversation_paths)}\", end=\"\\r\")\n",
    "    for path_label in conversation_group:\n",
    "        path = path_label[0]\n",
    "        labels = path_label[1]\n",
    "        conversation = get_conversation_from_path(path)\n",
    "        label = get_label_from_path(labels)\n",
    "        conversation_arr[idx_ctr][0] = conversation\n",
    "        conversation_arr[idx_ctr][1] = label\n",
    "        idx_ctr = idx_ctr + 1"
   ]
  },
  {
   "cell_type": "code",
   "execution_count": 186,
   "metadata": {},
   "outputs": [],
   "source": [
    "conversation_df = pd.DataFrame(conversation_arr, columns=[\"conversation\", \"success\"])"
   ]
  },
  {
   "cell_type": "code",
   "execution_count": 189,
   "metadata": {},
   "outputs": [],
   "source": [
    "conversation_df.to_csv('cmv_df.csv', index=False)"
   ]
  },
  {
   "cell_type": "code",
   "execution_count": null,
   "metadata": {},
   "outputs": [],
   "source": [
    "# Filter out the utterances whose success value is neither 0 or 1\n",
    "utterance_df = utterance_df[(utterance_df['meta.success'] == 0) | (utterance_df['meta.success'] == 1)]"
   ]
  },
  {
   "cell_type": "code",
   "execution_count": null,
   "metadata": {},
   "outputs": [],
   "source": [
    "utterance_df.memory_usage()"
   ]
  },
  {
   "cell_type": "code",
   "execution_count": null,
   "metadata": {},
   "outputs": [],
   "source": [
    "utterance_df = utterance_df.iloc[len(utterance_df) // 2:]"
   ]
  },
  {
   "cell_type": "markdown",
   "metadata": {},
   "source": [
    "## Data Cleaning"
   ]
  },
  {
   "cell_type": "markdown",
   "metadata": {},
   "source": [
    "### 1. Convert utterances to lowercase"
   ]
  },
  {
   "cell_type": "code",
   "execution_count": 191,
   "metadata": {},
   "outputs": [],
   "source": [
    "conversation_df['conversation'] = conversation_df['conversation'].str.lower()"
   ]
  },
  {
   "cell_type": "markdown",
   "metadata": {},
   "source": [
    "### 2. Remove any HTML or URLs from the utterances"
   ]
  },
  {
   "cell_type": "code",
   "execution_count": 192,
   "metadata": {},
   "outputs": [],
   "source": [
    "conversation_df['conversation'] = conversation_df['conversation'].apply(lambda x: re.sub('http[s]?://(?:[a-zA-Z]|[0-9]|[$-_@.&+]|[!*\\(\\),]|(?:%[0-9a-fA-F][0-9a-fA-F]))+', '', str(x)))\n",
    "conversation_df['conversation'] = conversation_df['conversation'].apply(lambda x: re.sub('<[^<]+?>', '', str(x)))"
   ]
  },
  {
   "cell_type": "markdown",
   "metadata": {},
   "source": [
    "### 3. Expand contractions"
   ]
  },
  {
   "cell_type": "code",
   "execution_count": 193,
   "metadata": {},
   "outputs": [],
   "source": [
    "conversation_df['conversation'] = conversation_df['conversation'].apply(lambda x: contractions.fix(x))"
   ]
  },
  {
   "cell_type": "markdown",
   "metadata": {},
   "source": [
    "### 4. Tokenization"
   ]
  },
  {
   "cell_type": "code",
   "execution_count": 194,
   "metadata": {},
   "outputs": [
    {
     "data": {
      "text/plain": [
       "True"
      ]
     },
     "execution_count": 194,
     "metadata": {},
     "output_type": "execute_result"
    }
   ],
   "source": [
    "from nltk.tokenize import sent_tokenize, word_tokenize\n",
    "nltk.download('punkt', quiet=True)"
   ]
  },
  {
   "cell_type": "markdown",
   "metadata": {},
   "source": [
    "### 4.1. Sentence tokenization"
   ]
  },
  {
   "cell_type": "code",
   "execution_count": 195,
   "metadata": {},
   "outputs": [],
   "source": [
    "conversation_df['conversation'] = conversation_df['conversation'].apply(lambda x: ' '.join([w for w in sent_tokenize(x)]))"
   ]
  },
  {
   "cell_type": "markdown",
   "metadata": {},
   "source": [
    "### 4.2. Word tokenization"
   ]
  },
  {
   "cell_type": "code",
   "execution_count": 196,
   "metadata": {},
   "outputs": [],
   "source": [
    "conversation_df['conversation'] = conversation_df['conversation'].apply(lambda x: ' '.join([w for w in word_tokenize(x)]))"
   ]
  },
  {
   "cell_type": "markdown",
   "metadata": {},
   "source": [
    "### 5. Remove non-alphanumeric characters"
   ]
  },
  {
   "cell_type": "code",
   "execution_count": 197,
   "metadata": {},
   "outputs": [],
   "source": [
    "conversation_df['conversation'] = conversation_df['conversation'].apply(lambda x: re.sub('[^a-zA-Z0-9]', ' ', str(x)))"
   ]
  },
  {
   "cell_type": "markdown",
   "metadata": {},
   "source": [
    "# Pre-processing"
   ]
  },
  {
   "cell_type": "code",
   "execution_count": 198,
   "metadata": {},
   "outputs": [],
   "source": [
    "from nltk.corpus import stopwords\n",
    "from nltk.stem.porter import PorterStemmer\n",
    "from nltk.stem import WordNetLemmatizer"
   ]
  },
  {
   "cell_type": "markdown",
   "metadata": {},
   "source": [
    "### 1. Remove the stop words"
   ]
  },
  {
   "cell_type": "code",
   "execution_count": 199,
   "metadata": {},
   "outputs": [],
   "source": [
    "stop_words = stopwords.words('english')\n",
    "conversation_df['conversation'] = conversation_df['conversation'].apply(lambda x: ' '.join([w for w in x.split() if w not in stop_words]))"
   ]
  },
  {
   "cell_type": "markdown",
   "metadata": {},
   "source": [
    "### 2. Perform stemming"
   ]
  },
  {
   "cell_type": "code",
   "execution_count": 200,
   "metadata": {},
   "outputs": [],
   "source": [
    "# stemmer = PorterStemmer()\n",
    "# utterance_df['text'] = utterance_df['text'].apply(lambda x: ' '.join([stemmer.stem(w) for w in x.split()]))"
   ]
  },
  {
   "cell_type": "markdown",
   "metadata": {},
   "source": [
    "### 3. Perform lemmatization"
   ]
  },
  {
   "cell_type": "code",
   "execution_count": 201,
   "metadata": {},
   "outputs": [],
   "source": [
    "lemmatizer = nltk.WordNetLemmatizer()\n",
    "conversation_df['conversation'] = conversation_df['conversation'].apply(lambda x: ' '.join([lemmatizer.lemmatize(w) for w in x.split()]))"
   ]
  },
  {
   "cell_type": "markdown",
   "metadata": {},
   "source": [
    "### 4. Remove extra whitespace"
   ]
  },
  {
   "cell_type": "code",
   "execution_count": 202,
   "metadata": {},
   "outputs": [],
   "source": [
    "conversation_df['conversation'] = conversation_df['conversation'].apply(lambda x: ' '.join(x.split()))"
   ]
  },
  {
   "cell_type": "markdown",
   "metadata": {},
   "source": [
    "# Write the preprocessed dataframe to a .csv file"
   ]
  },
  {
   "cell_type": "code",
   "execution_count": 203,
   "metadata": {},
   "outputs": [],
   "source": [
    "conversation_df.to_csv('cmv_df_cleaned.csv', index=False)"
   ]
  }
 ],
 "metadata": {
  "kernelspec": {
   "display_name": "Python 3.9.7 ('base')",
   "language": "python",
   "name": "python3"
  },
  "language_info": {
   "codemirror_mode": {
    "name": "ipython",
    "version": 3
   },
   "file_extension": ".py",
   "mimetype": "text/x-python",
   "name": "python",
   "nbconvert_exporter": "python",
   "pygments_lexer": "ipython3",
   "version": "3.9.7"
  },
  "orig_nbformat": 4,
  "vscode": {
   "interpreter": {
    "hash": "cb69f1298249730a38e9c908db43e5574824b46301e1be803b6723b7b558f467"
   }
  }
 },
 "nbformat": 4,
 "nbformat_minor": 2
}
