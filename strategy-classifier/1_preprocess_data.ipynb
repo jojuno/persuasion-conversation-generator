{
 "cells": [
  {
   "cell_type": "code",
   "execution_count": 170,
   "metadata": {},
   "outputs": [],
   "source": [
    "import numpy as np\n",
    "import pandas as pd\n",
    "import nltk\n",
    "nltk.download('wordnet', quiet=True)\n",
    "import re"
   ]
  },
  {
   "cell_type": "code",
   "execution_count": 171,
   "metadata": {},
   "outputs": [
    {
     "name": "stdout",
     "output_type": "stream",
     "text": [
      "Requirement already satisfied: contractions in c:\\users\\brent\\anaconda3\\lib\\site-packages (0.1.72)"
     ]
    },
    {
     "name": "stderr",
     "output_type": "stream",
     "text": [
      "\n",
      "[notice] A new release of pip available: 22.2.2 -> 22.3.1\n",
      "[notice] To update, run: python.exe -m pip install --upgrade pip\n"
     ]
    },
    {
     "name": "stdout",
     "output_type": "stream",
     "text": [
      "\n",
      "Requirement already satisfied: textsearch>=0.0.21 in c:\\users\\brent\\anaconda3\\lib\\site-packages (from contractions) (0.0.21)\n",
      "Requirement already satisfied: pyahocorasick in c:\\users\\brent\\anaconda3\\lib\\site-packages (from textsearch>=0.0.21->contractions) (1.4.4)\n",
      "Requirement already satisfied: anyascii in c:\\users\\brent\\anaconda3\\lib\\site-packages (from textsearch>=0.0.21->contractions) (0.3.1)\n"
     ]
    }
   ],
   "source": [
    "! pip install contractions\n",
    "import contractions"
   ]
  },
  {
   "cell_type": "markdown",
   "metadata": {},
   "source": [
    "## Read in the datasets"
   ]
  },
  {
   "cell_type": "code",
   "execution_count": 172,
   "metadata": {},
   "outputs": [],
   "source": [
    "'''\n",
    "# The following reads in the full_info.csv file\n",
    "\n",
    "info_cols = ['dialogue_id', 'uid', 'role', 'donation', 'num_turns', 'extrovert', 'agreeable', \\\n",
    "    'conscientious', 'neurotic', 'open', 'care', 'fairness', 'loyalty', 'authority', 'purity', 'freedom', \\\n",
    "    'conform', 'tradition', 'benevolence', 'universalism', 'self_direction', 'stimulation', 'hedonism', \\\n",
    "    'achievement', 'power', 'security', 'rational', 'intuitive', 'age', 'sex', 'race', 'education', 'marital', \\\n",
    "    'employment', 'income', 'religion', 'ideology']\n",
    "info_df = pd.read_csv('./data/FullData/full_info.csv', names=info_cols, header=None, skiprows=1)\n",
    "'''\n",
    "\n",
    "# The following reads in the 300_info.csv file\n",
    "info_cols = ['dialogue_id', 'uid', 'role', 'intended_donation', 'actual_donation', 'num_turns']\n",
    "info_df = pd.read_csv('./data/AnnotatedData/300_info.csv', names=info_cols, header=None, skiprows=1)"
   ]
  },
  {
   "cell_type": "code",
   "execution_count": 173,
   "metadata": {},
   "outputs": [],
   "source": [
    "'''\n",
    "# The following reads in the full_dialog.csv file\n",
    "\n",
    "dialogue_cols = ['sentence_id', 'sentence', 'turn', 'role', 'dialogue_id']\n",
    "dialogue_df = pd.read_csv('./data/FullData/full_dialog.csv', names=dialogue_cols, \\\n",
    "    header=None, skiprows=1, skipinitialspace=True)\n",
    "'''\n",
    "\n",
    "# The following reads in the 300_dialog.csv file\n",
    "dialogue_cols = ['idx', 'dialogue_id', 'role', 'turn', 'sentence', 'er_label_1', 'ee_label_1', 'er_label_2', 'ee_label_2', 'negative', 'neutral', 'positive']\n",
    "dialogue_df = pd.read_csv('./data/AnnotatedData/300_dialog.csv', names=dialogue_cols, \\\n",
    "    header=None, skiprows=1, skipinitialspace=True, encoding='unicode_escape')"
   ]
  },
  {
   "cell_type": "markdown",
   "metadata": {},
   "source": [
    "# Data cleaning"
   ]
  },
  {
   "cell_type": "markdown",
   "metadata": {},
   "source": [
    "### 1. Reformat UIDs by removing the \"user_\" suffix and converting to np.int16"
   ]
  },
  {
   "cell_type": "code",
   "execution_count": 174,
   "metadata": {},
   "outputs": [],
   "source": [
    "info_df['uid'] = info_df['uid'].str[5:].astype(np.int16)"
   ]
  },
  {
   "cell_type": "markdown",
   "metadata": {},
   "source": [
    "### 2. Convert utterances to lowercase"
   ]
  },
  {
   "cell_type": "code",
   "execution_count": 175,
   "metadata": {},
   "outputs": [],
   "source": [
    "dialogue_df['sentence'] = dialogue_df['sentence'].str.lower()"
   ]
  },
  {
   "cell_type": "markdown",
   "metadata": {},
   "source": [
    "### 3. Remove any HTML or URLs from the utterances"
   ]
  },
  {
   "cell_type": "code",
   "execution_count": 176,
   "metadata": {},
   "outputs": [],
   "source": [
    "dialogue_df[\"sentence\"] = dialogue_df[\"sentence\"].apply(lambda x: re.sub('http[s]?://(?:[a-zA-Z]|[0-9]|[$-_@.&+]|[!*\\(\\),]|(?:%[0-9a-fA-F][0-9a-fA-F]))+', '', str(x)))\n",
    "dialogue_df[\"sentence\"] = dialogue_df[\"sentence\"].apply(lambda x: re.sub('<[^<]+?>', '', str(x)))"
   ]
  },
  {
   "cell_type": "markdown",
   "metadata": {},
   "source": [
    "### 4. Expand contractions"
   ]
  },
  {
   "cell_type": "code",
   "execution_count": 177,
   "metadata": {},
   "outputs": [],
   "source": [
    "dialogue_df[\"sentence\"] = dialogue_df[\"sentence\"].apply(lambda x: contractions.fix(x))"
   ]
  },
  {
   "cell_type": "markdown",
   "metadata": {},
   "source": [
    "### 5. Tokenization"
   ]
  },
  {
   "cell_type": "code",
   "execution_count": 178,
   "metadata": {},
   "outputs": [
    {
     "data": {
      "text/plain": [
       "True"
      ]
     },
     "execution_count": 178,
     "metadata": {},
     "output_type": "execute_result"
    }
   ],
   "source": [
    "from nltk.tokenize import sent_tokenize, word_tokenize\n",
    "nltk.download('punkt', quiet=True)"
   ]
  },
  {
   "cell_type": "markdown",
   "metadata": {},
   "source": [
    "### 5.1. Sentence tokenization"
   ]
  },
  {
   "cell_type": "code",
   "execution_count": 179,
   "metadata": {},
   "outputs": [],
   "source": [
    "dialogue_df[\"sentence\"] = dialogue_df[\"sentence\"].apply(lambda x: ' '.join([w for w in sent_tokenize(x)]))"
   ]
  },
  {
   "cell_type": "markdown",
   "metadata": {},
   "source": [
    "### 5.2. Word tokenization"
   ]
  },
  {
   "cell_type": "code",
   "execution_count": 180,
   "metadata": {},
   "outputs": [],
   "source": [
    "dialogue_df[\"sentence\"] = dialogue_df[\"sentence\"].apply(lambda x: ' '.join([w for w in word_tokenize(x)]))"
   ]
  },
  {
   "cell_type": "markdown",
   "metadata": {},
   "source": [
    "### 6. Remove non-alphanumeric characters"
   ]
  },
  {
   "cell_type": "code",
   "execution_count": 181,
   "metadata": {},
   "outputs": [],
   "source": [
    "dialogue_df[\"sentence\"] = dialogue_df[\"sentence\"].apply(lambda x: re.sub('[^a-zA-Z0-9]', ' ', str(x)))"
   ]
  },
  {
   "cell_type": "markdown",
   "metadata": {},
   "source": [
    "# Pre-processing"
   ]
  },
  {
   "cell_type": "code",
   "execution_count": 182,
   "metadata": {},
   "outputs": [],
   "source": [
    "from nltk.corpus import stopwords\n",
    "from nltk.stem.porter import PorterStemmer\n",
    "from nltk.stem import WordNetLemmatizer"
   ]
  },
  {
   "cell_type": "markdown",
   "metadata": {},
   "source": [
    "### 1. Remove the stop words"
   ]
  },
  {
   "cell_type": "code",
   "execution_count": 183,
   "metadata": {},
   "outputs": [],
   "source": [
    "# stop_words = stopwords.words('english')\n",
    "# dialogue_df['sentence'] = dialogue_df['sentence'].apply(lambda x: ' '.join([w for w in x.split() if w not in stop_words]))"
   ]
  },
  {
   "cell_type": "markdown",
   "metadata": {},
   "source": [
    "### 2. Perform stemming"
   ]
  },
  {
   "cell_type": "code",
   "execution_count": 184,
   "metadata": {},
   "outputs": [],
   "source": [
    "stemmer = PorterStemmer()\n",
    "dialogue_df['sentence'] = dialogue_df['sentence'].apply(lambda x: ' '.join([stemmer.stem(w) for w in x.split()]))"
   ]
  },
  {
   "cell_type": "markdown",
   "metadata": {},
   "source": [
    "### 3. Perform lemmatization"
   ]
  },
  {
   "cell_type": "code",
   "execution_count": 185,
   "metadata": {},
   "outputs": [],
   "source": [
    "lemmatizer = nltk.WordNetLemmatizer()\n",
    "dialogue_df['sentence'] = dialogue_df['sentence'].apply(lambda x: ' '.join([lemmatizer.lemmatize(w) for w in x.split()]))"
   ]
  },
  {
   "cell_type": "markdown",
   "metadata": {},
   "source": [
    "### 4. Remove extra whitespace"
   ]
  },
  {
   "cell_type": "code",
   "execution_count": 186,
   "metadata": {},
   "outputs": [],
   "source": [
    "dialogue_df['sentence'] = dialogue_df['sentence'].apply(lambda x: ' '.join(x.split()))"
   ]
  },
  {
   "cell_type": "markdown",
   "metadata": {},
   "source": [
    "### 5. Remove NaN utterances"
   ]
  },
  {
   "cell_type": "code",
   "execution_count": 187,
   "metadata": {},
   "outputs": [],
   "source": [
    "dialogue_df['sentence'].replace('', np.nan, inplace=True)\n",
    "dialogue_df.dropna(subset=['sentence'], inplace=True)"
   ]
  },
  {
   "cell_type": "markdown",
   "metadata": {},
   "source": [
    "# Write the preprocessed dataframes to .csv files"
   ]
  },
  {
   "cell_type": "code",
   "execution_count": 188,
   "metadata": {},
   "outputs": [],
   "source": [
    "dialogue_df.to_csv('dialogue_df_cleaned.csv', index=False)\n",
    "info_df.to_csv('info_df_cleaned.csv', index=False)"
   ]
  }
 ],
 "metadata": {
  "kernelspec": {
   "display_name": "Python 3.9.7 ('base')",
   "language": "python",
   "name": "python3"
  },
  "language_info": {
   "codemirror_mode": {
    "name": "ipython",
    "version": 3
   },
   "file_extension": ".py",
   "mimetype": "text/x-python",
   "name": "python",
   "nbconvert_exporter": "python",
   "pygments_lexer": "ipython3",
   "version": "3.9.7"
  },
  "orig_nbformat": 4,
  "vscode": {
   "interpreter": {
    "hash": "cb69f1298249730a38e9c908db43e5574824b46301e1be803b6723b7b558f467"
   }
  }
 },
 "nbformat": 4,
 "nbformat_minor": 2
}
