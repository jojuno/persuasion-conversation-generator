{
  "nbformat": 4,
  "nbformat_minor": 0,
  "metadata": {
    "colab": {
      "provenance": []
    },
    "kernelspec": {
      "name": "python3",
      "display_name": "Python 3"
    },
    "language_info": {
      "name": "python"
    }
  },
  "cells": [
    {
      "cell_type": "code",
      "source": [
        "import pandas as pd"
      ],
      "metadata": {
        "id": "PhPsoF6cETaD"
      },
      "execution_count": null,
      "outputs": []
    },
    {
      "cell_type": "code",
      "source": [
        "df = pd.read_csv('full_dialog.csv')\n",
        "print(df.shape)\n",
        "df_er = df1 = df[df['B4'] == 0]\n",
        "df_ee = df1 = df[df['B4'] == 1]"
      ],
      "metadata": {
        "colab": {
          "base_uri": "https://localhost:8080/"
        },
        "id": "q21SOQDGEboR",
        "outputId": "bbe7674a-9866-4318-b035-d420c80e281a"
      },
      "execution_count": 16,
      "outputs": [
        {
          "output_type": "stream",
          "name": "stdout",
          "text": [
            "(20932, 5)\n"
          ]
        }
      ]
    },
    {
      "cell_type": "code",
      "source": [
        "persuader_references = df_er[\"Unit\"].tolist()\n",
        "persuadee_references = df_ee[\"Unit\"].tolist()\n",
        "print(len(persuader_references))\n",
        "print(len(persuadee_references))"
      ],
      "metadata": {
        "colab": {
          "base_uri": "https://localhost:8080/"
        },
        "id": "CFasuQ7OGDBn",
        "outputId": "99157a81-7971-4794-9003-f2c5c568df87"
      },
      "execution_count": 26,
      "outputs": [
        {
          "output_type": "stream",
          "name": "stdout",
          "text": [
            "10600\n",
            "10332\n"
          ]
        }
      ]
    },
    {
      "cell_type": "code",
      "source": [
        "persuader_references_a = [persuader_references[i:i + 5] for i in range(0, len(persuader_references), 5)]\n",
        "persuadee_references_a = [persuadee_references[i:i + 5] for i in range(0, len(persuadee_references), 5)]\n",
        "print(len(persuader_references_a))\n",
        "print(len(persuadee_references_a[-1]))"
      ],
      "metadata": {
        "colab": {
          "base_uri": "https://localhost:8080/"
        },
        "id": "bedOjuaQKp81",
        "outputId": "d21b85f8-0489-4313-87f9-962b601ffb5f"
      },
      "execution_count": 29,
      "outputs": [
        {
          "output_type": "stream",
          "name": "stdout",
          "text": [
            "2120\n",
            "2\n"
          ]
        }
      ]
    },
    {
      "cell_type": "code",
      "execution_count": null,
      "metadata": {
        "id": "DfHDiSm6pSo2"
      },
      "outputs": [],
      "source": [
        "from nltk.translate.bleu_score import SmoothingFunction, corpus_bleu, sentence_bleu\n",
        "\n",
        "def bleu(ref, gen):\n",
        "    ''' \n",
        "    calculate pair wise bleu score. uses nltk implementation\n",
        "    Args:\n",
        "        references : a list of reference sentences \n",
        "        candidates : a list of candidate(generated) sentences\n",
        "    Returns:\n",
        "        bleu score(float)\n",
        "    '''\n",
        "    ref_bleu = []\n",
        "    gen_bleu = []\n",
        "    for l in gen:\n",
        "        gen_bleu.append(l.split())\n",
        "    for i,l in enumerate(ref):\n",
        "        ref_bleu.append([l.split()])\n",
        "    cc = SmoothingFunction()\n",
        "    score_bleu = corpus_bleu(ref_bleu, gen_bleu, weights=(0.25, 0.25, 0.25, 0.25), smoothing_function=cc.method4)\n",
        "    return score_bleu"
      ]
    },
    {
      "cell_type": "code",
      "source": [
        "file1 = open('persuadee.txt', 'r')\n",
        "lines = file1.readlines()\n",
        "  \n",
        "count = 0\n",
        "\n",
        "persuadee_convs = list()\n",
        "temp_lines = list()\n",
        "for line in lines:\n",
        "  if len(line) == 1:\n",
        "    persuadee_convs.append(temp_lines)\n",
        "    temp_lines = list()\n",
        "    continue\n",
        "  temp_lines.append(line)\n",
        "  count += 1"
      ],
      "metadata": {
        "id": "pGV-F3mZX26S"
      },
      "execution_count": null,
      "outputs": []
    },
    {
      "cell_type": "code",
      "source": [
        "print(persuadee_convs)"
      ],
      "metadata": {
        "colab": {
          "base_uri": "https://localhost:8080/"
        },
        "id": "MmGYS-rYZus5",
        "outputId": "77f4edd2-2f67-41e4-8cb8-8fa135a2af9a"
      },
      "execution_count": null,
      "outputs": [
        {
          "output_type": "stream",
          "name": "stdout",
          "text": [
            "[[\" Hello! How are you doing today?? I'm good, how are you\\n\", \" I'm doing great! Just got back from the gym. What are you up to?\\n\", ' I work at a gym as a personal trainer. What do you want to know?\\n', \" That sounds like a good way to go about it. I think I'll do the same.\\n\", \" That's a good question. I'm not sure how much I can afford to donate.\\n\"], [' Of course you can. I need all the help I can get...\\n', \" That's very nice of you. I wish I could help, but I don't have a lot of money.\\n\", ' That sounds like a great idea. I wish I had more money to donate.\\n', ' I feel the same way. I wish I had more money so I could donate more.\\n', \" That's a good idea. I think I'll do the same. I hope so too.\\n\"], [\" I'm doing well, thank you. How are you doing? I am good.\\n\", \" That's great! I hope you have a great time.  I'm actually from there.\\n\", \" That's so cool! I've never been there at night, but I'd love to see it.\\n\", \" I'm so happy for you!  I hope you have a great time!\\n\", \" That's all I can think of right now.  I'll let you know if I think of anything else.\\n\"], [\" Hi! How are you doing today?? I'm good, how are you\\n\", \" That's great! What do you do for a living? I'm a teacher\\n\", \" That's so nice of you to donate. I'm sure your daughter will really appreciate it.\\n\", \" I think that's a great idea. I wish I could donate, but I don't have a lot of money.\\n\", \" I think I'll donate some money to the local animal shelter. They need all the help they can get.\\n\"]]\n"
          ]
        }
      ]
    },
    {
      "cell_type": "code",
      "source": [
        "file1 = open('persuader.txt', 'r')\n",
        "lines = file1.readlines()\n",
        "  \n",
        "count = 0\n",
        "\n",
        "persuader_convs = list()\n",
        "temp_lines = list()\n",
        "for line in lines:\n",
        "  if len(line) == 1:\n",
        "    persuader_convs.append(temp_lines)\n",
        "    temp_lines = list()\n",
        "    continue\n",
        "  temp_lines.append(line)\n",
        "  count += 1"
      ],
      "metadata": {
        "id": "57xWaPxTZAsV"
      },
      "execution_count": null,
      "outputs": []
    },
    {
      "cell_type": "code",
      "source": [
        "print(len(persuader_convs))"
      ],
      "metadata": {
        "colab": {
          "base_uri": "https://localhost:8080/"
        },
        "id": "2F98bJyQZ8c0",
        "outputId": "89a8ab79-74be-43e6-f23a-29b2fe072737"
      },
      "execution_count": null,
      "outputs": [
        {
          "output_type": "stream",
          "name": "stdout",
          "text": [
            "3\n"
          ]
        }
      ]
    },
    {
      "cell_type": "code",
      "source": [
        "file1 = open('conversations.txt', 'r')\n",
        "lines = file1.readlines()\n",
        "  \n",
        "count = 0\n",
        "\n",
        "persuader_refs = list()\n",
        "persuadee_refs = list()\n",
        "er_temp_lines = list()\n",
        "ee_temp_lines = list()\n",
        "for line in lines:\n",
        "  if len(line) == 1:\n",
        "    persuader_refs.append(er_temp_lines)\n",
        "    persuadee_refs.append(ee_temp_lines)\n",
        "    er_temp_lines = list()\n",
        "    ee_temp_lines = list()\n",
        "    continue\n",
        "  if line[0] == \"A\":\n",
        "    er_temp_lines.append(line[2:])\n",
        "  elif line[0] == \"B\":\n",
        "    ee_temp_lines.append(line[2:])\n",
        "  count += 1"
      ],
      "metadata": {
        "id": "O8Ys7Y-caIYw"
      },
      "execution_count": null,
      "outputs": []
    },
    {
      "cell_type": "code",
      "source": [
        "max_bleus = list()\n",
        "for persuader_convo_ref in persuader_refs:\n",
        "  cand_max = list()\n",
        "  if len(persuader_convo_ref) == 0:\n",
        "    continue\n",
        "\n",
        "  for persuader_convo_hypo in persuader_convs:\n",
        "    if len(persuader_convo_hypo) == 0:\n",
        "      continue\n",
        "    subset = min(len(persuader_convo_ref), len(persuader_convo_hypo))\n",
        "    cand_max.append(bleu(persuader_convo_ref[:subset], persuader_convo_hypo[:subset]))\n",
        "  max_bleus.append(max(cand_max))\n",
        "print(sum(max_bleus)/len(max_bleus))"
      ],
      "metadata": {
        "colab": {
          "base_uri": "https://localhost:8080/"
        },
        "id": "1lynjCZTbVwv",
        "outputId": "93888c48-7efb-4d60-ca07-1127bef7a9cf"
      },
      "execution_count": null,
      "outputs": [
        {
          "output_type": "stream",
          "name": "stdout",
          "text": [
            "0.005228695179480539\n"
          ]
        }
      ]
    },
    {
      "cell_type": "code",
      "source": [
        "max_bleus = list()\n",
        "for persuadee_convo_ref in persuadee_refs:\n",
        "  cand_max = list()\n",
        "  if len(persuadee_convo_ref) == 0:\n",
        "    continue\n",
        "\n",
        "  for persuadee_convo_hypo in persuadee_convs:\n",
        "    if len(persuadee_convo_hypo) == 0:\n",
        "      continue\n",
        "    subset = min(len(persuadee_convo_ref), len(persuadee_convo_hypo))\n",
        "    cand_max.append(bleu(persuadee_convo_ref[:subset], persuadee_convo_hypo[:subset]))\n",
        "  max_bleus.append(max(cand_max))\n",
        "print(sum(max_bleus)/len(max_bleus))"
      ],
      "metadata": {
        "id": "WCxm0U3ydknE",
        "colab": {
          "base_uri": "https://localhost:8080/"
        },
        "outputId": "c56d90b8-e91d-44f8-ae9d-cc5886d63861"
      },
      "execution_count": null,
      "outputs": [
        {
          "output_type": "stream",
          "name": "stdout",
          "text": [
            "0.07332695446581743\n"
          ]
        }
      ]
    },
    {
      "cell_type": "code",
      "source": [
        "# from og dataset\n",
        "max_bleus = list()\n",
        "for persuader_convo_ref in persuader_references_a:\n",
        "  cand_max = list()\n",
        "  if len(persuader_convo_ref) == 0:\n",
        "    continue\n",
        "\n",
        "  for persuader_convo_hypo in persuader_convs:\n",
        "    if len(persuader_convo_hypo) == 0:\n",
        "      continue\n",
        "    subset = min(len(persuader_convo_ref), len(persuader_convo_hypo))\n",
        "    cand_max.append(bleu(persuader_convo_ref[:subset], persuader_convo_hypo[:subset]))\n",
        "  max_bleus.append(max(cand_max))\n",
        "print(sum(max_bleus)/len(max_bleus))"
      ],
      "metadata": {
        "colab": {
          "base_uri": "https://localhost:8080/"
        },
        "id": "XTIYnHCMIO15",
        "outputId": "8352316a-d072-40ce-f270-1c80336ed2e9"
      },
      "execution_count": 30,
      "outputs": [
        {
          "output_type": "stream",
          "name": "stdout",
          "text": [
            "0.008474414553709186\n"
          ]
        }
      ]
    },
    {
      "cell_type": "code",
      "source": [
        "# from og dataset\n",
        "max_bleus = list()\n",
        "for persuadee_convo_ref in persuadee_references_a:\n",
        "  cand_max = list()\n",
        "  if len(persuadee_convo_ref) == 0:\n",
        "    continue\n",
        "\n",
        "  for persuadee_convo_hypo in persuadee_convs:\n",
        "    if len(persuadee_convo_hypo) == 0:\n",
        "      continue\n",
        "    subset = min(len(persuadee_convo_ref), len(persuadee_convo_hypo))\n",
        "    cand_max.append(bleu(persuadee_convo_ref[:subset], persuadee_convo_hypo[:subset]))\n",
        "  max_bleus.append(max(cand_max))\n",
        "print(sum(max_bleus)/len(max_bleus))"
      ],
      "metadata": {
        "colab": {
          "base_uri": "https://localhost:8080/"
        },
        "id": "E2wqXFITLhuj",
        "outputId": "0b058d5a-30aa-49e1-aea5-80acccd388d7"
      },
      "execution_count": 31,
      "outputs": [
        {
          "output_type": "stream",
          "name": "stdout",
          "text": [
            "0.01265778555769119\n"
          ]
        }
      ]
    }
  ]
}